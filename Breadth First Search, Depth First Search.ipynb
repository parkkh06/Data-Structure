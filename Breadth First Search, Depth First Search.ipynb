{
 "cells": [
  {
   "cell_type": "code",
   "execution_count": 32,
   "metadata": {},
   "outputs": [
    {
     "name": "stdout",
     "output_type": "stream",
     "text": [
      "Does input file exist?(Y/N) : Y\n",
      "Enter file name :one\n",
      "Enter file location :C:\\Users\\pkh30\\Desktop\\SKKU\\2020-2\\인공지능개론\n"
     ]
    }
   ],
   "source": [
    "import ast\n",
    "import numpy as np\n",
    "\n",
    "def parse_tuple(string):\n",
    "    try:\n",
    "        s = ast.literal_eval(str(string))\n",
    "        if type(s) == tuple:\n",
    "            return s\n",
    "        return\n",
    "    except:\n",
    "        return\n",
    "\n",
    "input_data = input(\"Does input file exist?(Y/N) : \")\n",
    "\n",
    "if input_data == \"Y\":\n",
    "    file_name = input(\"Enter file name :\")\n",
    "    location = input(\"Enter file location :\")\n",
    "    txt = location+\"/\"+file_name+\".txt\"\n",
    "    info = open(txt, 'r')\n",
    "    line_list = []\n",
    "    while True:\n",
    "        line = info.readline()\n",
    "        line_list.append(line)\n",
    "        if not line: break\n",
    "    \n",
    "    info.close()\n",
    "\n",
    "    row_col = line_list[1].replace('\\n',\"\").split(' ')\n",
    "    m = int(row_col[0])  #number of row\n",
    "    n = int(row_col[1])  #number of column\n",
    "    start = parse_tuple(line_list[2].replace('\\n',\"\").split(' ')[0])\n",
    "    goal = parse_tuple(line_list[3].replace('\\n',\"\").split(' ')[0])\n",
    "    obstacle_num = len(line_list) - 8\n",
    "    obstacle_list = []\n",
    "    for i in range(obstacle_num):\n",
    "        obstacle = parse_tuple(line_list[6+i].replace('\\n',\"\").split(' ')[0])\n",
    "        obstacle_list.append(obstacle)\n",
    "    maze = np.zeros((m,n))  \n",
    "    for obs_pos in obstacle_list:\n",
    "        maze[obs_pos] = int(1)\n",
    "    maze = maze.tolist()    \n",
    "\n",
    "#print(line_list)\n",
    "#print(start)\n",
    "#print(goal)\n",
    "#print(obstacle_list)"
   ]
  },
  {
   "cell_type": "code",
   "execution_count": 33,
   "metadata": {},
   "outputs": [
    {
     "data": {
      "text/plain": [
       "[[0.0, 0.0, 0.0, 0.0, 0.0],\n",
       " [0.0, 0.0, 1.0, 1.0, 1.0],\n",
       " [0.0, 1.0, 0.0, 0.0, 0.0],\n",
       " [0.0, 0.0, 0.0, 0.0, 0.0]]"
      ]
     },
     "execution_count": 33,
     "metadata": {},
     "output_type": "execute_result"
    }
   ],
   "source": [
    "maze"
   ]
  },
  {
   "cell_type": "code",
   "execution_count": 35,
   "metadata": {
    "scrolled": false
   },
   "outputs": [],
   "source": [
    "def DeleteObs(value, obstacle_list):\n",
    "    for i in value:\n",
    "        for j in obstacle_list:\n",
    "            if i == j:\n",
    "                value.remove(i)\n",
    "    return value\n",
    "\n",
    "def GenerateNode(maze):\n",
    "    row = len(maze)\n",
    "    col = len(maze[0])\n",
    "    graph = {}\n",
    "    for i in range(0, row):\n",
    "        for j in range(0, col):\n",
    "            graph[(i,j)] = [(i-1,j), (i+1,j), (i,j-1), (i,j+1)]\n",
    "    for key in list(graph.keys()):      #list로 변환 후 제거\n",
    "        if key in obstacle_list:\n",
    "            del graph[key]\n",
    "    \n",
    "    for value in graph.values():\n",
    "        for i in value:\n",
    "            if i[0] < 0 or i[0] > row-1:\n",
    "                value.remove(i)\n",
    "        for i in value:\n",
    "            if i[1] < 0 or i[1] > col-1:\n",
    "                value.remove(i)\n",
    "                \n",
    "    for value in graph.values():\n",
    "        for i in value:\n",
    "            i = DeleteObs(value, obstacle_list)\n",
    "    \n",
    "    expandablenode = graph\n",
    "    return expandablenode\n",
    "\n",
    "expandablenode = GenerateNode(maze)\n"
   ]
  },
  {
   "cell_type": "code",
   "execution_count": 38,
   "metadata": {
    "scrolled": false
   },
   "outputs": [
    {
     "name": "stdout",
     "output_type": "stream",
     "text": [
      "Route to the goal node : [(3, 1), (3, 0), (2, 0), (1, 0), (0, 0), (0, 1), (0, 2), (0, 3), (0, 4)]\n",
      "Total distance : 9\n",
      "Explored Nodes : [(3, 1), (3, 0), (3, 2), (2, 0), (2, 2), (3, 3), (1, 0), (2, 3), (3, 4), (0, 0), (1, 1), (2, 4), (0, 1), (0, 2), (0, 3)]\n"
     ]
    }
   ],
   "source": [
    "def BFS(expandablenode, start, goal):\n",
    "    visited = []\n",
    "    queue = []\n",
    "    \n",
    "    queue.append(start)\n",
    "    while len(queue) != 0:\n",
    "        if queue[0] == start:\n",
    "            path = [queue.pop(0)]\n",
    "        else:\n",
    "            path = queue.pop(0)\n",
    "            \n",
    "        front = path[-1]\n",
    "        if front == goal:\n",
    "            return path, len(path), visited\n",
    "        elif front not in visited:\n",
    "            for adjacentnode in expandablenode[front]:\n",
    "                newpath = list(path)\n",
    "                newpath.append(adjacentnode)\n",
    "                queue.append(newpath)                   # Keep tracks every path\n",
    "            visited.append(front)\n",
    "        #print(path)                                  ## To check how does it tracks down the path\n",
    "\n",
    "BFS_route, BFS_length, BFS_explored = BFS(expandablenode, start, goal)\n",
    "print(\"Route to the goal node :\", BFS_route)\n",
    "print(\"Total distance :\", BFS_length)\n",
    "print(\"Explored Nodes :\", BFS_explored)"
   ]
  },
  {
   "cell_type": "code",
   "execution_count": 40,
   "metadata": {},
   "outputs": [
    {
     "name": "stdout",
     "output_type": "stream",
     "text": [
      "Route to the goal node : [(3, 1), (3, 0), (2, 0), (1, 0), (1, 1), (0, 1), (0, 2), (0, 3), (0, 4)]\n",
      "Total distance : 9\n",
      "Explored Nodes : [(3, 1), (3, 2), (3, 3), (3, 4), (2, 4), (2, 3), (2, 2), (3, 0), (2, 0), (1, 0), (1, 1), (0, 1), (0, 2), (0, 3)]\n"
     ]
    }
   ],
   "source": [
    "def DFS(expandablenode, start, goal):\n",
    "    visited = []\n",
    "    stack =[]\n",
    "    stack.append(start)\n",
    "    \n",
    "    while len(stack) != 0:\n",
    "        if stack[-1] == start:\n",
    "            path = [stack.pop(-1)]\n",
    "        else:\n",
    "            path = stack.pop(-1)\n",
    "            \n",
    "        front = path[-1]\n",
    "        if front == goal:\n",
    "            return path, len(path), visited\n",
    "        elif front not in visited:\n",
    "            for adjacentnode in expandablenode[front]:\n",
    "                newpath = list(path)\n",
    "                newpath.append(adjacentnode)\n",
    "                stack.append(newpath)\n",
    "            visited.append(front)\n",
    "            \n",
    "DFS_route, DFS_length, DFS_explored = DFS(expandablenode, start, goal)\n",
    "print(\"Route to the goal node :\", DFS_route)\n",
    "print(\"Total distance :\", DFS_length)\n",
    "print(\"Explored Nodes :\", DFS_explored)"
   ]
  },
  {
   "cell_type": "code",
   "execution_count": null,
   "metadata": {},
   "outputs": [],
   "source": []
  }
 ],
 "metadata": {
  "kernelspec": {
   "display_name": "Python 3",
   "language": "python",
   "name": "python3"
  },
  "language_info": {
   "codemirror_mode": {
    "name": "ipython",
    "version": 3
   },
   "file_extension": ".py",
   "mimetype": "text/x-python",
   "name": "python",
   "nbconvert_exporter": "python",
   "pygments_lexer": "ipython3",
   "version": "3.7.3"
  }
 },
 "nbformat": 4,
 "nbformat_minor": 2
}
